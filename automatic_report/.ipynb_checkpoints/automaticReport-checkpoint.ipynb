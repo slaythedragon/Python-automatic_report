{
 "cells": [
  {
   "cell_type": "code",
   "execution_count": 25,
   "metadata": {},
   "outputs": [],
   "source": [
    "import pandas as pd\n",
    "from datetime import datetime\n",
    "# 把\"成交时间\"由字符串类型变为时间类型\n",
    "data = pd.read_csv(r\"order.csv\", encoding='gbk', parse_dates=[\"成交时间\"])"
   ]
  },
  {
   "cell_type": "code",
   "execution_count": 26,
   "metadata": {},
   "outputs": [
    {
     "data": {
      "text/html": [
       "<div>\n",
       "<style scoped>\n",
       "    .dataframe tbody tr th:only-of-type {\n",
       "        vertical-align: middle;\n",
       "    }\n",
       "\n",
       "    .dataframe tbody tr th {\n",
       "        vertical-align: top;\n",
       "    }\n",
       "\n",
       "    .dataframe thead th {\n",
       "        text-align: right;\n",
       "    }\n",
       "</style>\n",
       "<table border=\"1\" class=\"dataframe\">\n",
       "  <thead>\n",
       "    <tr style=\"text-align: right;\">\n",
       "      <th></th>\n",
       "      <th>商品ID</th>\n",
       "      <th>类别ID</th>\n",
       "      <th>门店编号</th>\n",
       "      <th>单价</th>\n",
       "      <th>销量</th>\n",
       "      <th>成交时间</th>\n",
       "      <th>订单ID</th>\n",
       "    </tr>\n",
       "  </thead>\n",
       "  <tbody>\n",
       "    <tr>\n",
       "      <th>0</th>\n",
       "      <td>30006206.0</td>\n",
       "      <td>915000003.0</td>\n",
       "      <td>CDNL</td>\n",
       "      <td>25.23</td>\n",
       "      <td>0.328</td>\n",
       "      <td>2018-01-01</td>\n",
       "      <td>20170103CDLG000210052759</td>\n",
       "    </tr>\n",
       "    <tr>\n",
       "      <th>1</th>\n",
       "      <td>30163281.0</td>\n",
       "      <td>914010000.0</td>\n",
       "      <td>CDNL</td>\n",
       "      <td>2.00</td>\n",
       "      <td>2.000</td>\n",
       "      <td>2018-01-02</td>\n",
       "      <td>20170103CDLG000210052759</td>\n",
       "    </tr>\n",
       "    <tr>\n",
       "      <th>2</th>\n",
       "      <td>30200518.0</td>\n",
       "      <td>922000000.0</td>\n",
       "      <td>CDNL</td>\n",
       "      <td>19.62</td>\n",
       "      <td>0.230</td>\n",
       "      <td>2018-01-03</td>\n",
       "      <td>20170103CDLG000210052759</td>\n",
       "    </tr>\n",
       "    <tr>\n",
       "      <th>3</th>\n",
       "      <td>29989105.0</td>\n",
       "      <td>922000000.0</td>\n",
       "      <td>CDNL</td>\n",
       "      <td>2.80</td>\n",
       "      <td>2.044</td>\n",
       "      <td>2018-01-04</td>\n",
       "      <td>20170103CDLG000210052759</td>\n",
       "    </tr>\n",
       "    <tr>\n",
       "      <th>4</th>\n",
       "      <td>30179558.0</td>\n",
       "      <td>915000100.0</td>\n",
       "      <td>CDNL</td>\n",
       "      <td>47.41</td>\n",
       "      <td>0.226</td>\n",
       "      <td>2018-01-05</td>\n",
       "      <td>20170103CDLG000210052759</td>\n",
       "    </tr>\n",
       "  </tbody>\n",
       "</table>\n",
       "</div>"
      ],
      "text/plain": [
       "         商品ID         类别ID  门店编号     单价     销量       成交时间  \\\n",
       "0  30006206.0  915000003.0  CDNL  25.23  0.328 2018-01-01   \n",
       "1  30163281.0  914010000.0  CDNL   2.00  2.000 2018-01-02   \n",
       "2  30200518.0  922000000.0  CDNL  19.62  0.230 2018-01-03   \n",
       "3  29989105.0  922000000.0  CDNL   2.80  2.044 2018-01-04   \n",
       "4  30179558.0  915000100.0  CDNL  47.41  0.226 2018-01-05   \n",
       "\n",
       "                       订单ID  \n",
       "0  20170103CDLG000210052759  \n",
       "1  20170103CDLG000210052759  \n",
       "2  20170103CDLG000210052759  \n",
       "3  20170103CDLG000210052759  \n",
       "4  20170103CDLG000210052759  "
      ]
     },
     "execution_count": 26,
     "metadata": {},
     "output_type": "execute_result"
    }
   ],
   "source": [
    "data.head()"
   ]
  },
  {
   "cell_type": "code",
   "execution_count": 27,
   "metadata": {},
   "outputs": [
    {
     "name": "stdout",
     "output_type": "stream",
     "text": [
      "<class 'pandas.core.frame.DataFrame'>\n",
      "RangeIndex: 3744 entries, 0 to 3743\n",
      "Data columns (total 7 columns):\n",
      "商品ID    3478 non-null float64\n",
      "类别ID    3478 non-null float64\n",
      "门店编号    3478 non-null object\n",
      "单价      3478 non-null float64\n",
      "销量      3478 non-null float64\n",
      "成交时间    3478 non-null datetime64[ns]\n",
      "订单ID    3478 non-null object\n",
      "dtypes: datetime64[ns](1), float64(4), object(2)\n",
      "memory usage: 204.8+ KB\n"
     ]
    }
   ],
   "source": [
    "data.info()"
   ]
  },
  {
   "cell_type": "code",
   "execution_count": 28,
   "metadata": {},
   "outputs": [],
   "source": [
    "# 计算本月相关指标\n",
    "This_month = data[(data[\"成交时间\"] >= datetime(2018,2,1)) & (data[\"成交时间\"] <= datetime(2018,2,28))]\n",
    "# 计算上月相关指标\n",
    "last_month = data[(data[\"成交时间\"] >= datetime(2018,1,1)) & (data[\"成交时间\"] <= datetime(2018,1,31))]\n",
    "# 计算去年同期相关指标\n",
    "same_month = data[(data[\"成交时间\"] >= datetime(2017,2,1)) & (data[\"成交时间\"] <= datetime(2017,2,28))]"
   ]
  },
  {
   "cell_type": "code",
   "execution_count": 29,
   "metadata": {},
   "outputs": [],
   "source": [
    "def get_month_data(data):\n",
    "    # 销售额\n",
    "    sale = (data[\"单价\"]*data[\"销量\"]).sum()\n",
    "    # 客流量，订单ID去重\n",
    "    traffic = data[\"订单ID\"].drop_duplicates().count()\n",
    "    # 客单价=销售额/客流量\n",
    "    s_t = sale/traffic\n",
    "    return (sale, traffic, s_t)"
   ]
  },
  {
   "cell_type": "code",
   "execution_count": 37,
   "metadata": {},
   "outputs": [],
   "source": [
    "# 计算本月相关指标\n",
    "sale_1, traffic_1, s_t_1 = get_month_data(This_month)\n",
    "# 计算上月相关指标\n",
    "sale_2, traffic_2, s_t_2 = get_month_data(last_month)\n",
    "# 计算去年同期相关指标\n",
    "sale_3, traffic_3, s_t_3 = get_month_data(same_month)"
   ]
  },
  {
   "cell_type": "code",
   "execution_count": 40,
   "metadata": {},
   "outputs": [
    {
     "data": {
      "text/html": [
       "<div>\n",
       "<style scoped>\n",
       "    .dataframe tbody tr th:only-of-type {\n",
       "        vertical-align: middle;\n",
       "    }\n",
       "\n",
       "    .dataframe tbody tr th {\n",
       "        vertical-align: top;\n",
       "    }\n",
       "\n",
       "    .dataframe thead th {\n",
       "        text-align: right;\n",
       "    }\n",
       "</style>\n",
       "<table border=\"1\" class=\"dataframe\">\n",
       "  <thead>\n",
       "    <tr style=\"text-align: right;\">\n",
       "      <th></th>\n",
       "      <th>本月累计</th>\n",
       "      <th>上月同期</th>\n",
       "      <th>去年同期</th>\n",
       "    </tr>\n",
       "  </thead>\n",
       "  <tbody>\n",
       "    <tr>\n",
       "      <th>销售额</th>\n",
       "      <td>10412.780070</td>\n",
       "      <td>9940.972910</td>\n",
       "      <td>8596.313470</td>\n",
       "    </tr>\n",
       "    <tr>\n",
       "      <th>客流量</th>\n",
       "      <td>343.000000</td>\n",
       "      <td>315.000000</td>\n",
       "      <td>262.000000</td>\n",
       "    </tr>\n",
       "    <tr>\n",
       "      <th>客单价</th>\n",
       "      <td>30.357959</td>\n",
       "      <td>31.558644</td>\n",
       "      <td>32.810357</td>\n",
       "    </tr>\n",
       "  </tbody>\n",
       "</table>\n",
       "</div>"
      ],
      "text/plain": [
       "             本月累计         上月同期         去年同期\n",
       "销售额  10412.780070  9940.972910  8596.313470\n",
       "客流量    343.000000   315.000000   262.000000\n",
       "客单价     30.357959    31.558644    32.810357"
      ]
     },
     "execution_count": 40,
     "metadata": {},
     "output_type": "execute_result"
    }
   ],
   "source": [
    "# 将三个时间段的指标进行合并\n",
    "report = pd.DataFrame([[sale_1, sale_2, sale_3],\n",
    "                      [traffic_1, traffic_2, traffic_3],\n",
    "                      [s_t_1, s_t_2, s_t_3]],\n",
    "                      columns = [\"本月累计\",\"上月同期\",\"去年同期\"],\n",
    "                      index = [\"销售额\", \"客流量\", \"客单价\"])\n",
    "report"
   ]
  },
  {
   "cell_type": "code",
   "execution_count": 41,
   "metadata": {},
   "outputs": [
    {
     "data": {
      "text/html": [
       "<div>\n",
       "<style scoped>\n",
       "    .dataframe tbody tr th:only-of-type {\n",
       "        vertical-align: middle;\n",
       "    }\n",
       "\n",
       "    .dataframe tbody tr th {\n",
       "        vertical-align: top;\n",
       "    }\n",
       "\n",
       "    .dataframe thead th {\n",
       "        text-align: right;\n",
       "    }\n",
       "</style>\n",
       "<table border=\"1\" class=\"dataframe\">\n",
       "  <thead>\n",
       "    <tr style=\"text-align: right;\">\n",
       "      <th></th>\n",
       "      <th>本月累计</th>\n",
       "      <th>上月同期</th>\n",
       "      <th>去年同期</th>\n",
       "      <th>环比</th>\n",
       "      <th>同比</th>\n",
       "    </tr>\n",
       "  </thead>\n",
       "  <tbody>\n",
       "    <tr>\n",
       "      <th>销售额</th>\n",
       "      <td>10412.780070</td>\n",
       "      <td>9940.972910</td>\n",
       "      <td>8596.313470</td>\n",
       "      <td>0.047461</td>\n",
       "      <td>0.211308</td>\n",
       "    </tr>\n",
       "    <tr>\n",
       "      <th>客流量</th>\n",
       "      <td>343.000000</td>\n",
       "      <td>315.000000</td>\n",
       "      <td>262.000000</td>\n",
       "      <td>0.088889</td>\n",
       "      <td>0.309160</td>\n",
       "    </tr>\n",
       "    <tr>\n",
       "      <th>客单价</th>\n",
       "      <td>30.357959</td>\n",
       "      <td>31.558644</td>\n",
       "      <td>32.810357</td>\n",
       "      <td>-0.038046</td>\n",
       "      <td>-0.074745</td>\n",
       "    </tr>\n",
       "  </tbody>\n",
       "</table>\n",
       "</div>"
      ],
      "text/plain": [
       "             本月累计         上月同期         去年同期        环比        同比\n",
       "销售额  10412.780070  9940.972910  8596.313470  0.047461  0.211308\n",
       "客流量    343.000000   315.000000   262.000000  0.088889  0.309160\n",
       "客单价     30.357959    31.558644    32.810357 -0.038046 -0.074745"
      ]
     },
     "execution_count": 41,
     "metadata": {},
     "output_type": "execute_result"
    }
   ],
   "source": [
    "# 添加同比和环比字段\n",
    "report[\"环比\"] = report[\"本月累计\"]/report[\"上月同期\"] - 1\n",
    "report[\"同比\"] = report[\"本月累计\"]/report[\"去年同期\"] - 1\n",
    "report"
   ]
  },
  {
   "cell_type": "code",
   "execution_count": 44,
   "metadata": {},
   "outputs": [],
   "source": [
    "# 导出报表到桌面\n",
    "report.to_csv(r\"C:\\Users\\MSI-PC\\Desktop\\report.csv\", encoding = \"utf-8-sig\")"
   ]
  }
 ],
 "metadata": {
  "kernelspec": {
   "display_name": "Python 3",
   "language": "python",
   "name": "python3"
  },
  "language_info": {
   "codemirror_mode": {
    "name": "ipython",
    "version": 3
   },
   "file_extension": ".py",
   "mimetype": "text/x-python",
   "name": "python",
   "nbconvert_exporter": "python",
   "pygments_lexer": "ipython3",
   "version": "3.7.3"
  }
 },
 "nbformat": 4,
 "nbformat_minor": 4
}
